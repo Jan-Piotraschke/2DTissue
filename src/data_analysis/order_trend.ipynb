{
 "cells": [
  {
   "cell_type": "code",
   "execution_count": 24,
   "metadata": {},
   "outputs": [
    {
     "ename": "ModuleNotFoundError",
     "evalue": "No module named 'plotly'",
     "output_type": "error",
     "traceback": [
      "\u001b[0;31m---------------------------------------------------------------------------\u001b[0m",
      "\u001b[0;31mModuleNotFoundError\u001b[0m                       Traceback (most recent call last)",
      "Cell \u001b[0;32mIn[24], line 8\u001b[0m\n\u001b[1;32m      6\u001b[0m \u001b[39mfrom\u001b[39;00m \u001b[39mpathlib\u001b[39;00m \u001b[39mimport\u001b[39;00m Path\n\u001b[1;32m      7\u001b[0m \u001b[39mimport\u001b[39;00m \u001b[39mos\u001b[39;00m\n\u001b[0;32m----> 8\u001b[0m \u001b[39mimport\u001b[39;00m \u001b[39mplotly\u001b[39;00m\u001b[39m.\u001b[39;00m\u001b[39mgraph_objs\u001b[39;00m \u001b[39mas\u001b[39;00m \u001b[39mgo\u001b[39;00m\n\u001b[1;32m      9\u001b[0m \u001b[39mfrom\u001b[39;00m \u001b[39mplotly\u001b[39;00m\u001b[39m.\u001b[39;00m\u001b[39msubplots\u001b[39;00m \u001b[39mimport\u001b[39;00m make_subplots\n\u001b[1;32m     11\u001b[0m current_path \u001b[39m=\u001b[39m Path(os\u001b[39m.\u001b[39mgetcwd())\n",
      "\u001b[0;31mModuleNotFoundError\u001b[0m: No module named 'plotly'"
     ]
    }
   ],
   "source": [
    "import pandas as pd\n",
    "import seaborn as sns\n",
    "import matplotlib.pyplot as plt\n",
    "import numpy as np\n",
    "from numpy.polynomial import Polynomial\n",
    "from pathlib import Path\n",
    "import os\n",
    "!pip install plotly\n",
    "import plotly.graph_objs as go\n",
    "from plotly.subplots import make_subplots\n",
    "\n",
    "current_path = Path(os.getcwd())\n",
    "data = pd.read_csv(current_path.parents[1] / \"assets\" / 'v_order_data_0_to_80_noise.csv', sep=',')\n",
    "\n",
    "# Extract x and y values\n",
    "x = data['particles']\n",
    "y = data['order_parameter']\n",
    "\n",
    "# Fit the data with a 3rd-degree polynomial\n",
    "poly_fit = Polynomial.fit(x, y, 3)\n",
    "\n",
    "# Create a more detailed x range for a smoother polynomial fit\n",
    "x_fit = np.arange(100, 1001, 1)\n",
    "\n",
    "# Create a subplot with Plotly\n",
    "fig = make_subplots(specs=[[{\"secondary_y\": True}]])\n",
    "\n",
    "# Add the box plot to the subplot\n",
    "fig.add_trace(\n",
    "    go.Box(\n",
    "        x=data['particles'],\n",
    "        y=data['order_parameter'],\n",
    "        name='Order Parameter',\n",
    "        boxmean=True,  # Show the mean as a dashed line\n",
    "    ),\n",
    "    secondary_y=False,\n",
    ")\n",
    "\n",
    "# Add the polynomial fit to the subplot\n",
    "fig.add_trace(\n",
    "    go.Scatter(\n",
    "        x=x_fit,\n",
    "        y=poly_fit(x_fit),\n",
    "        mode='lines',\n",
    "        line=dict(color='red', width=2),\n",
    "        name='Polynomial Fit',\n",
    "    ),\n",
    "    secondary_y=True,\n",
    ")\n",
    "\n",
    "# Set the x-axis title\n",
    "fig.update_xaxes(title_text=\"Particles Number\")\n",
    "\n",
    "# Set the y-axis titles\n",
    "fig.update_yaxes(title_text=\"Order Parameter\", secondary_y=False)\n",
    "fig.update_yaxes(title_text=\"Polynomial Fit\", secondary_y=True)\n",
    "\n",
    "# Hide the secondary y-axis\n",
    "fig.update_yaxes(showticklabels=False, secondary_y=True)\n",
    "\n",
    "# Customize the plot appearance\n",
    "fig.update_layout(\n",
    "    title=\"Order Parameter vs Particles Number\",\n",
    "    hovermode=\"x unified\",\n",
    "    plot_bgcolor=\"white\",\n",
    ")\n",
    "\n",
    "# Display the plot\n",
    "fig.show()"
   ]
  }
 ],
 "metadata": {
  "kernelspec": {
   "display_name": "venv",
   "language": "python",
   "name": "python3"
  },
  "language_info": {
   "codemirror_mode": {
    "name": "ipython",
    "version": 3
   },
   "file_extension": ".py",
   "mimetype": "text/x-python",
   "name": "python",
   "nbconvert_exporter": "python",
   "pygments_lexer": "ipython3",
   "version": "3.11.3"
  },
  "orig_nbformat": 4
 },
 "nbformat": 4,
 "nbformat_minor": 2
}
